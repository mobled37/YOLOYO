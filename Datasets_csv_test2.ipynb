{
 "cells": [
  {
   "cell_type": "code",
   "execution_count": 2,
   "metadata": {
    "collapsed": true
   },
   "outputs": [],
   "source": [
    "import os\n",
    "import random\n",
    "import numpy as np\n",
    "import librosa.display\n",
    "import soundfile as sf\n",
    "import csv\n",
    "import json as json"
   ]
  },
  {
   "cell_type": "code",
   "execution_count": 3,
   "outputs": [],
   "source": [
    "def get_files_count(folder_path):\n",
    "\tdirListing = os.listdir(folder_path)\n",
    "\treturn len(dirListing)"
   ],
   "metadata": {
    "collapsed": false,
    "pycharm": {
     "name": "#%%\n"
    }
   }
  },
  {
   "cell_type": "code",
   "execution_count": 20,
   "outputs": [
    {
     "name": "stdout",
     "output_type": "stream",
     "text": [
      "[[  5632  25088]\n",
      " [ 25600  41472]\n",
      " [ 43520  44544]\n",
      " [ 46592 104960]\n",
      " [105472 105984]\n",
      " [111616 130560]\n",
      " [131072 157184]\n",
      " [161792 172544]\n",
      " [173056 194560]]\n",
      "198960\n",
      "173056 194560\n",
      "--\n",
      "complete200001\n",
      "[[ 6656 53760]\n",
      " [57344 71680]]\n",
      "77200\n",
      "6656 53760\n",
      "--\n",
      "complete200002\n",
      "[[  5120  24064]\n",
      " [ 25600  55808]\n",
      " [ 56320  71168]\n",
      " [ 72704  80896]\n",
      " [ 81408  87040]\n",
      " [100352 112640]\n",
      " [114176 128000]\n",
      " [133632 180224]\n",
      " [180736 183808]\n",
      " [185856 204800]\n",
      " [206336 215040]]\n",
      "219520\n",
      "206336 215040\n",
      "--\n",
      "complete200003\n"
     ]
    }
   ],
   "source": [
    "PATH = \"/Users/valleotb/Desktop/Valleotb/sample\"\n",
    "SAVE_PATH = \"/Users/valleotb/Desktop/Valleotb/sample_save\"\n",
    "FILE_NAME_PATH = \"/Users/valleotb/Desktop/Valleotb/sample_filename\"\n",
    "FILE_COUNT = get_files_count(PATH)\n",
    "\n",
    "f = open(f'{FILE_NAME_PATH}/metadata.csv','w',newline='')\n",
    "wr = csv.writer(f)\n",
    "wr.writerow(['audio_file'])\n",
    "\n",
    "j = 100000  # 원본 파일 네이밍\n",
    "z = 200000  # 수정 후 파일 네이밍\n",
    "\n",
    "for i in range(FILE_COUNT):\n",
    "    # WAVE_SEQUENCE 에러\n",
    "    # WAVE_SEQUENCE가 Wav 파일이 바뀔때 마다 0으로 초기화 되어야한다.\n",
    "    WAVE_SEQUENCE = 0\n",
    "    # dataload\n",
    "    j += 1\n",
    "    WAVEFORM, SR = sf.read(f\"{PATH}/{j}.flac\")\n",
    "    WAVEFORM = librosa.util.normalize(WAVEFORM)\n",
    "\n",
    "    NON_SILENT_TIME = librosa.effects.split(WAVEFORM, top_db=20)\n",
    "    print(NON_SILENT_TIME)\n",
    "    print(WAVEFORM.size)\n",
    "\n",
    "    # os.mkdir(f'{SAVE_PATH}/{z}')\n",
    "    # MAKE_FOLDER_PATH = f'{SAVE_PATH}/{z}'\n",
    "\n",
    "\n",
    "\n",
    "    # k 대신 random이 들어가야한다.\n",
    "    # 근데 그 random이 len(NON_SILENT_TIME) 이상 수로 되면 안된다.\n",
    "    # 한 샘플에 여러 구간 변형이 있는 것도 괜찮을거 같다.\n",
    "\n",
    "    # random.randint(0, len(NON_SILENT_TIME)-1)\n",
    "\n",
    "    if len(NON_SILENT_TIME) > 1 :\n",
    "        random_num = random.randint(0, len(NON_SILENT_TIME)-1)\n",
    "        k = NON_SILENT_TIME[random_num]\n",
    "        if (k[1] - k[0]) > 3000 :\n",
    "\n",
    "\n",
    "            WAVEFORM, SR = sf.read(f\"{PATH}/{j}.flac\")\n",
    "            WAVEFORM = librosa.util.normalize(WAVEFORM)\n",
    "\n",
    "            print(k[0],k[1])\n",
    "            N_STEPS = random.randint(1,5)\n",
    "            WAVEFORM_TRANSFORM = librosa.effects.pitch_shift(WAVEFORM[k[0]:k[1]], sr=SR, n_steps=N_STEPS)\n",
    "            WAVEFORM_TRANSFORM_MINUS = librosa.effects.pitch_shift(WAVEFORM_TRANSFORM, sr=SR, n_steps=-N_STEPS)\n",
    "            print(\"--\")\n",
    "            # Normalize\n",
    "            WAVEFORM_NOT_TRANSFORM_PART = WAVEFORM[k[0]:k[1]]\n",
    "            WAVEFORM_DOUBLED = WAVEFORM_NOT_TRANSFORM_PART ** 2\n",
    "            WAVEFORM_TRANSFORM_DOUBLED = WAVEFORM_TRANSFORM_MINUS ** 2\n",
    "            a = np.sqrt((WAVEFORM_DOUBLED.sum()) / (WAVEFORM_TRANSFORM_DOUBLED.sum()))\n",
    "\n",
    "            WAVEFORM_TRANSFORM_FINAL = WAVEFORM_TRANSFORM_MINUS * a\n",
    "\n",
    "            # Data Process\n",
    "            WAVEFORM[k[0]:k[1]] = WAVEFORM_TRANSFORM_FINAL\n",
    "\n",
    "            # Audio를 chunk 단위로 자르기\n",
    "            rangedata = int(WAVEFORM.size / 1024)\n",
    "            POINTER = 0\n",
    "\n",
    "\n",
    "            # 구간의 50% 이상이 포함되었을때만 Labeling 진행한다.\n",
    "\n",
    "            for e in range(rangedata):\n",
    "                if POINTER + 1024 <= k[0]:\n",
    "                    WAVEFORM_CUTTED = WAVEFORM[POINTER:POINTER+1024]\n",
    "                    sf.write(f'{SAVE_PATH}/{z}_{WAVE_SEQUENCE}_0.wav', WAVEFORM_CUTTED, SR, subtype=\"PCM_24\")\n",
    "                    wr.writerow([f'{SAVE_PATH}/{z}_{WAVE_SEQUENCE}_0.wav'])\n",
    "                    WAVE_SEQUENCE += 1\n",
    "                    POINTER += 1025\n",
    "\n",
    "\n",
    "\n",
    "                elif k[0] < POINTER + 1024 <= k[1]:\n",
    "                    WAVEFORM_CUTTED = WAVEFORM[POINTER:POINTER+1024]\n",
    "                    sf.write(f'{SAVE_PATH}/{z}_{WAVE_SEQUENCE}_1.wav', WAVEFORM_CUTTED, SR, subtype=\"PCM_24\")\n",
    "                    wr.writerow([f'{SAVE_PATH}/{z}_{WAVE_SEQUENCE}_1.wav'])\n",
    "                    WAVE_SEQUENCE += 1\n",
    "                    POINTER += 1025\n",
    "\n",
    "                elif POINTER + 1024 > k[1]:\n",
    "                    WAVEFORM_CUTTED = WAVEFORM[POINTER:POINTER+1024]\n",
    "                    sf.write(f'{SAVE_PATH}/{z}_{WAVE_SEQUENCE}_0.wav', WAVEFORM_CUTTED, SR, subtype=\"PCM_24\")\n",
    "                    wr.writerow([f'{SAVE_PATH}/{z}_{WAVE_SEQUENCE}_0.wav'])\n",
    "                    WAVE_SEQUENCE += 1\n",
    "                    POINTER += 1025\n",
    "\n",
    "            z += 1\n",
    "            print(f'complete{z}')\n",
    "\n",
    "f.close()"
   ],
   "metadata": {
    "collapsed": false,
    "pycharm": {
     "name": "#%%\n"
    }
   }
  },
  {
   "cell_type": "code",
   "execution_count": 23,
   "outputs": [
    {
     "data": {
      "text/plain": "                                      speech_segments\n0   {'start_time': {'0': 5125}, 'end_time': {'0': ...\n1   {'start_time': {'1': 6150}, 'end_time': {'1': ...\n2   {'start_time': {'2': 7175}, 'end_time': {'2': ...\n3   {'start_time': {'3': 8200}, 'end_time': {'3': ...\n4   {'start_time': {'4': 9225}, 'end_time': {'4': ...\n5   {'start_time': {'5': 10250}, 'end_time': {'5':...\n6   {'start_time': {'6': 11275}, 'end_time': {'6':...\n7   {'start_time': {'7': 12300}, 'end_time': {'7':...\n8   {'start_time': {'8': 13325}, 'end_time': {'8':...\n9   {'start_time': {'9': 14350}, 'end_time': {'9':...\n10  {'start_time': {'10': 15375}, 'end_time': {'10...\n11  {'start_time': {'11': 16400}, 'end_time': {'11...\n12  {'start_time': {'12': 17425}, 'end_time': {'12...\n13  {'start_time': {'13': 18450}, 'end_time': {'13...\n14  {'start_time': {'14': 19475}, 'end_time': {'14...\n15  {'start_time': {'15': 20500}, 'end_time': {'15...\n16  {'start_time': {'16': 21525}, 'end_time': {'16...\n17  {'start_time': {'17': 22550}, 'end_time': {'17...\n18  {'start_time': {'18': 23575}, 'end_time': {'18...",
      "text/html": "<div>\n<style scoped>\n    .dataframe tbody tr th:only-of-type {\n        vertical-align: middle;\n    }\n\n    .dataframe tbody tr th {\n        vertical-align: top;\n    }\n\n    .dataframe thead th {\n        text-align: right;\n    }\n</style>\n<table border=\"1\" class=\"dataframe\">\n  <thead>\n    <tr style=\"text-align: right;\">\n      <th></th>\n      <th>speech_segments</th>\n    </tr>\n  </thead>\n  <tbody>\n    <tr>\n      <th>0</th>\n      <td>{'start_time': {'0': 5125}, 'end_time': {'0': ...</td>\n    </tr>\n    <tr>\n      <th>1</th>\n      <td>{'start_time': {'1': 6150}, 'end_time': {'1': ...</td>\n    </tr>\n    <tr>\n      <th>2</th>\n      <td>{'start_time': {'2': 7175}, 'end_time': {'2': ...</td>\n    </tr>\n    <tr>\n      <th>3</th>\n      <td>{'start_time': {'3': 8200}, 'end_time': {'3': ...</td>\n    </tr>\n    <tr>\n      <th>4</th>\n      <td>{'start_time': {'4': 9225}, 'end_time': {'4': ...</td>\n    </tr>\n    <tr>\n      <th>5</th>\n      <td>{'start_time': {'5': 10250}, 'end_time': {'5':...</td>\n    </tr>\n    <tr>\n      <th>6</th>\n      <td>{'start_time': {'6': 11275}, 'end_time': {'6':...</td>\n    </tr>\n    <tr>\n      <th>7</th>\n      <td>{'start_time': {'7': 12300}, 'end_time': {'7':...</td>\n    </tr>\n    <tr>\n      <th>8</th>\n      <td>{'start_time': {'8': 13325}, 'end_time': {'8':...</td>\n    </tr>\n    <tr>\n      <th>9</th>\n      <td>{'start_time': {'9': 14350}, 'end_time': {'9':...</td>\n    </tr>\n    <tr>\n      <th>10</th>\n      <td>{'start_time': {'10': 15375}, 'end_time': {'10...</td>\n    </tr>\n    <tr>\n      <th>11</th>\n      <td>{'start_time': {'11': 16400}, 'end_time': {'11...</td>\n    </tr>\n    <tr>\n      <th>12</th>\n      <td>{'start_time': {'12': 17425}, 'end_time': {'12...</td>\n    </tr>\n    <tr>\n      <th>13</th>\n      <td>{'start_time': {'13': 18450}, 'end_time': {'13...</td>\n    </tr>\n    <tr>\n      <th>14</th>\n      <td>{'start_time': {'14': 19475}, 'end_time': {'14...</td>\n    </tr>\n    <tr>\n      <th>15</th>\n      <td>{'start_time': {'15': 20500}, 'end_time': {'15...</td>\n    </tr>\n    <tr>\n      <th>16</th>\n      <td>{'start_time': {'16': 21525}, 'end_time': {'16...</td>\n    </tr>\n    <tr>\n      <th>17</th>\n      <td>{'start_time': {'17': 22550}, 'end_time': {'17...</td>\n    </tr>\n    <tr>\n      <th>18</th>\n      <td>{'start_time': {'18': 23575}, 'end_time': {'18...</td>\n    </tr>\n  </tbody>\n</table>\n</div>"
     },
     "execution_count": 23,
     "metadata": {},
     "output_type": "execute_result"
    }
   ],
   "source": [
    "import pandas as pd\n",
    "\n",
    "path = \"/Users/valleotb/Desktop/Valleotb/sample_metadata/200001_5632_25088.json\"\n",
    "df = pd.read_json(path)\n",
    "df\n",
    "# df.columns = ['start_time', 'end_time']"
   ],
   "metadata": {
    "collapsed": false,
    "pycharm": {
     "name": "#%%\n"
    }
   }
  },
  {
   "cell_type": "code",
   "execution_count": 7,
   "outputs": [
    {
     "name": "stdout",
     "output_type": "stream",
     "text": [
      "[[  5120  24064]\n",
      " [ 25600  55808]\n",
      " [ 56320  71168]\n",
      " [ 72704  80896]\n",
      " [ 81408  87040]\n",
      " [100352 112640]\n",
      " [114176 128000]\n",
      " [133632 180224]\n",
      " [180736 183808]\n",
      " [185856 204800]\n",
      " [206336 215040]]\n"
     ]
    }
   ],
   "source": [
    "print(NON_SILENT_TIME)"
   ],
   "metadata": {
    "collapsed": false,
    "pycharm": {
     "name": "#%%\n"
    }
   }
  },
  {
   "cell_type": "code",
   "execution_count": 8,
   "outputs": [
    {
     "name": "stdout",
     "output_type": "stream",
     "text": [
      "[100352 112640]\n"
     ]
    }
   ],
   "source": [
    "erwe = random.randint(0, len(NON_SILENT_TIME)-1)\n",
    "print(NON_SILENT_TIME[erwe])"
   ],
   "metadata": {
    "collapsed": false,
    "pycharm": {
     "name": "#%%\n"
    }
   }
  },
  {
   "cell_type": "code",
   "execution_count": 33,
   "outputs": [
    {
     "data": {
      "text/plain": "5125"
     },
     "execution_count": 33,
     "metadata": {},
     "output_type": "execute_result"
    }
   ],
   "source": [
    "import json\n",
    "time_dict = json.load(open(path))\n",
    "dict(list(time_dict['speech_segments'])[0])['start_time']['0']"
   ],
   "metadata": {
    "collapsed": false,
    "pycharm": {
     "name": "#%%\n"
    }
   }
  },
  {
   "cell_type": "code",
   "execution_count": 7,
   "outputs": [
    {
     "name": "stdout",
     "output_type": "stream",
     "text": [
      "16000\n"
     ]
    }
   ],
   "source": [
    "WAVEFORM, SR = sf.read(f\"{PATH}/{j}.flac\")\n",
    "print(SR)"
   ],
   "metadata": {
    "collapsed": false,
    "pycharm": {
     "name": "#%%\n"
    }
   }
  },
  {
   "cell_type": "code",
   "execution_count": 4,
   "outputs": [
    {
     "name": "stdout",
     "output_type": "stream",
     "text": [
      "['100001.flac', '100002.flac', '100003.flac']\n",
      "[ 2.38037109e-03  3.35693359e-03  2.19726562e-03 ...  6.10351562e-05\n",
      " -8.54492188e-04 -2.80761719e-03] 1\n",
      "[ 2.38037109e-03  3.35693359e-03  2.19726562e-03 ...  6.10351562e-05\n",
      " -8.54492188e-04 -2.80761719e-03] 1\n",
      "[ 2.38037109e-03  3.35693359e-03  2.19726562e-03 ...  6.10351562e-05\n",
      " -8.54492188e-04 -2.80761719e-03] 1\n",
      "[ 2.38037109e-03  3.35693359e-03  2.19726562e-03 ...  6.10351562e-05\n",
      " -8.54492188e-04 -2.80761719e-03] 1\n",
      "[ 2.38037109e-03  3.35693359e-03  2.19726562e-03 ...  6.10351562e-05\n",
      " -8.54492188e-04 -2.80761719e-03] 1\n",
      "[ 2.38037109e-03  3.35693359e-03  2.19726562e-03 ...  6.10351562e-05\n",
      " -8.54492188e-04 -2.80761719e-03] 1\n",
      "[ 2.38037109e-03  3.35693359e-03  2.19726562e-03 ...  6.10351562e-05\n",
      " -8.54492188e-04 -2.80761719e-03] 1\n",
      "[ 2.38037109e-03  3.35693359e-03  2.19726562e-03 ...  6.10351562e-05\n",
      " -8.54492188e-04 -2.80761719e-03] 1\n",
      "[ 2.38037109e-03  3.35693359e-03  2.19726562e-03 ...  6.10351562e-05\n",
      " -8.54492188e-04 -2.80761719e-03] 1\n",
      "[ 2.38037109e-03  3.35693359e-03  2.19726562e-03 ...  6.10351562e-05\n",
      " -8.54492188e-04 -2.80761719e-03] 1\n",
      "[ 2.38037109e-03  3.35693359e-03  2.19726562e-03 ...  6.10351562e-05\n",
      " -8.54492188e-04 -2.80761719e-03] 1\n",
      "[ 2.38037109e-03  3.35693359e-03  2.19726562e-03 ...  6.10351562e-05\n",
      " -8.54492188e-04 -2.80761719e-03] 1\n",
      "[ 2.38037109e-03  3.35693359e-03  2.19726562e-03 ...  6.10351562e-05\n",
      " -8.54492188e-04 -2.80761719e-03] 1\n",
      "[ 2.38037109e-03  3.35693359e-03  2.19726562e-03 ...  6.10351562e-05\n",
      " -8.54492188e-04 -2.80761719e-03] 1\n",
      "[ 2.38037109e-03  3.35693359e-03  2.19726562e-03 ...  6.10351562e-05\n",
      " -8.54492188e-04 -2.80761719e-03] 1\n",
      "[ 2.38037109e-03  3.35693359e-03  2.19726562e-03 ...  6.10351562e-05\n",
      " -8.54492188e-04 -2.80761719e-03] 1\n",
      "[ 2.38037109e-03  3.35693359e-03  2.19726562e-03 ...  6.10351562e-05\n",
      " -8.54492188e-04 -2.80761719e-03] 1\n",
      "[ 2.38037109e-03  3.35693359e-03  2.19726562e-03 ...  6.10351562e-05\n",
      " -8.54492188e-04 -2.80761719e-03] 1\n",
      "[ 2.38037109e-03  3.35693359e-03  2.19726562e-03 ...  6.10351562e-05\n",
      " -8.54492188e-04 -2.80761719e-03] 1\n",
      "[ 2.38037109e-03  3.35693359e-03  2.19726562e-03 ...  6.10351562e-05\n",
      " -8.54492188e-04 -2.80761719e-03] 1\n",
      "[ 2.38037109e-03  3.35693359e-03  2.19726562e-03 ...  6.10351562e-05\n",
      " -8.54492188e-04 -2.80761719e-03] 1\n",
      "[ 2.38037109e-03  3.35693359e-03  2.19726562e-03 ...  6.10351562e-05\n",
      " -8.54492188e-04 -2.80761719e-03] 1\n",
      "[ 2.38037109e-03  3.35693359e-03  2.19726562e-03 ...  6.10351562e-05\n",
      " -8.54492188e-04 -2.80761719e-03] 1\n",
      "[ 2.38037109e-03  3.35693359e-03  2.19726562e-03 ...  6.10351562e-05\n",
      " -8.54492188e-04 -2.80761719e-03] 1\n",
      "[ 2.38037109e-03  3.35693359e-03  2.19726562e-03 ...  6.10351562e-05\n",
      " -8.54492188e-04 -2.80761719e-03] 1\n",
      "[ 2.38037109e-03  3.35693359e-03  2.19726562e-03 ...  6.10351562e-05\n",
      " -8.54492188e-04 -2.80761719e-03] 1\n",
      "[ 2.38037109e-03  3.35693359e-03  2.19726562e-03 ...  6.10351562e-05\n",
      " -8.54492188e-04 -2.80761719e-03] 1\n",
      "[ 2.38037109e-03  3.35693359e-03  2.19726562e-03 ...  6.10351562e-05\n",
      " -8.54492188e-04 -2.80761719e-03] 1\n",
      "[ 2.38037109e-03  3.35693359e-03  2.19726562e-03 ...  6.10351562e-05\n",
      " -8.54492188e-04 -2.80761719e-03] 1\n",
      "[ 2.38037109e-03  3.35693359e-03  2.19726562e-03 ...  6.10351562e-05\n",
      " -8.54492188e-04 -2.80761719e-03] 1\n",
      "[ 2.38037109e-03  3.35693359e-03  2.19726562e-03 ...  6.10351562e-05\n",
      " -8.54492188e-04 -2.80761719e-03] 1\n",
      "[ 2.38037109e-03  3.35693359e-03  2.19726562e-03 ...  6.10351562e-05\n",
      " -8.54492188e-04 -2.80761719e-03] 1\n",
      "[ 2.38037109e-03  3.35693359e-03  2.19726562e-03 ...  6.10351562e-05\n",
      " -8.54492188e-04 -2.80761719e-03] 1\n",
      "[ 2.38037109e-03  3.35693359e-03  2.19726562e-03 ...  6.10351562e-05\n",
      " -8.54492188e-04 -2.80761719e-03] 1\n",
      "[ 2.38037109e-03  3.35693359e-03  2.19726562e-03 ...  6.10351562e-05\n",
      " -8.54492188e-04 -2.80761719e-03] 1\n",
      "[ 2.38037109e-03  3.35693359e-03  2.19726562e-03 ...  6.10351562e-05\n",
      " -8.54492188e-04 -2.80761719e-03] 1\n",
      "[ 2.38037109e-03  3.35693359e-03  2.19726562e-03 ...  6.10351562e-05\n",
      " -8.54492188e-04 -2.80761719e-03] 1\n",
      "[ 2.38037109e-03  3.35693359e-03  2.19726562e-03 ...  6.10351562e-05\n",
      " -8.54492188e-04 -2.80761719e-03] 1\n",
      "[ 2.38037109e-03  3.35693359e-03  2.19726562e-03 ...  6.10351562e-05\n",
      " -8.54492188e-04 -2.80761719e-03] 1\n"
     ]
    }
   ],
   "source": [
    "# i = 100000\n",
    "filelist = os.listdir(PATH)\n",
    "print(filelist)\n",
    "for fn in PATH:\n",
    "    j = 0\n",
    "    #i += 1\n",
    "    # fn_ids = fn.split(\"-\")\n",
    "    # print(fn)\n",
    "    flac_fp = os.path.join(PATH, f\"{filelist[j]}\")\n",
    "    j += 1\n",
    "    WAVEFORM, _ = sf.read(flac_fp)\n",
    "    print(WAVEFORM, f\"{j}\")"
   ],
   "metadata": {
    "collapsed": false,
    "pycharm": {
     "name": "#%%\n"
    }
   }
  },
  {
   "cell_type": "code",
   "execution_count": 5,
   "outputs": [
    {
     "data": {
      "text/plain": "'\\n\\nPOINTER = 1024\\n\\nMETA_DATA = f\"{META_DATA_PATH}/{z}_{k[0]}_{k[1]}.json\"\\nDATA = {}\\nDATA[\\'speech_segments\\'] = []\\n\\nfor i in range(WAVEFORM.size / 1024):\\n    if k[0] > POINTER or k[1] < POINTER :\\n        DATA[\\'speech_segments\\'].append({\\n                    \"start_time\": POINTER - 1024,\\n                    \"end_time\": POINTER\\n                })\\n    POINTER += 1024\\n\\n'"
     },
     "execution_count": 5,
     "metadata": {},
     "output_type": "execute_result"
    }
   ],
   "source": [
    "'''\n",
    "\n",
    "POINTER = 1024\n",
    "\n",
    "META_DATA = f\"{META_DATA_PATH}/{z}_{k[0]}_{k[1]}.json\"\n",
    "DATA = {}\n",
    "DATA['speech_segments'] = []\n",
    "\n",
    "for i in range(WAVEFORM.size / 1024):\n",
    "    if k[0] > POINTER or k[1] < POINTER :\n",
    "        DATA['speech_segments'].append({\n",
    "                    \"start_time\": POINTER - 1024,\n",
    "                    \"end_time\": POINTER\n",
    "                })\n",
    "    POINTER += 1024\n",
    "\n",
    "'''"
   ],
   "metadata": {
    "collapsed": false,
    "pycharm": {
     "name": "#%%\n"
    }
   }
  },
  {
   "cell_type": "code",
   "execution_count": 5,
   "outputs": [],
   "source": [],
   "metadata": {
    "collapsed": false,
    "pycharm": {
     "name": "#%%\n"
    }
   }
  }
 ],
 "metadata": {
  "kernelspec": {
   "display_name": "Python 3",
   "language": "python",
   "name": "python3"
  },
  "language_info": {
   "codemirror_mode": {
    "name": "ipython",
    "version": 2
   },
   "file_extension": ".py",
   "mimetype": "text/x-python",
   "name": "python",
   "nbconvert_exporter": "python",
   "pygments_lexer": "ipython2",
   "version": "2.7.6"
  }
 },
 "nbformat": 4,
 "nbformat_minor": 0
}