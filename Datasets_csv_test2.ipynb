{
 "cells": [
  {
   "cell_type": "code",
   "execution_count": 31,
   "metadata": {
    "collapsed": true
   },
   "outputs": [],
   "source": [
    "import os\n",
    "import random\n",
    "import numpy as np\n",
    "import librosa.display\n",
    "import soundfile as sf\n",
    "import json as json\n",
    "import pandas as pd"
   ]
  },
  {
   "cell_type": "code",
   "execution_count": 2,
   "outputs": [],
   "source": [
    "def get_files_count(folder_path):\n",
    "\tdirListing = os.listdir(folder_path)\n",
    "\treturn len(dirListing)"
   ],
   "metadata": {
    "collapsed": false,
    "pycharm": {
     "name": "#%%\n"
    }
   }
  },
  {
   "cell_type": "code",
   "execution_count": 52,
   "outputs": [
    {
     "name": "stdout",
     "output_type": "stream",
     "text": [
      "[[    0 27648]\n",
      " [28160 48000]]\n",
      "[[  512 12800]\n",
      " [16896 19456]\n",
      " [22528 26112]\n",
      " [34816 44544]\n",
      " [46592 48000]]\n",
      "complete200000\n",
      "[[    0   512]\n",
      " [ 1024 17920]\n",
      " [23552 48000]]\n",
      "[[    0 25600]\n",
      " [26112 29184]\n",
      " [37888 40960]\n",
      " [41472 46592]]\n",
      "complete200001\n",
      "[[    0  5632]\n",
      " [ 6144 13824]\n",
      " [19456 34304]\n",
      " [35328 45056]\n",
      " [46592 48000]]\n",
      "complete200002\n",
      "[[    0  9216]\n",
      " [ 9728 12800]\n",
      " [13824 17920]\n",
      " [20480 22528]\n",
      " [23552 32256]\n",
      " [34816 39424]\n",
      " [42496 48000]]\n",
      "[[    0 30208]\n",
      " [30720 48000]]\n",
      "[[    0  5632]\n",
      " [ 6144 17408]\n",
      " [21504 30720]\n",
      " [34304 48000]]\n",
      "complete200003\n",
      "[[  512 31232]\n",
      " [37376 44032]\n",
      " [47104 48000]]\n",
      "complete200004\n",
      "[[    0 17408]\n",
      " [18432 24576]\n",
      " [25600 31232]\n",
      " [33280 40448]\n",
      " [41984 47104]]\n",
      "complete200005\n",
      "[[    0 13824]\n",
      " [15360 18432]\n",
      " [22528 28160]\n",
      " [30208 33280]\n",
      " [35840 37376]\n",
      " [45056 47104]]\n",
      "complete200006\n",
      "[[  512  7168]\n",
      " [ 8192 17920]\n",
      " [19968 23552]\n",
      " [26112 31744]\n",
      " [33792 38912]\n",
      " [40448 46592]]\n",
      "complete200007\n",
      "[[  512 19968]\n",
      " [22528 26624]\n",
      " [27136 29696]\n",
      " [30208 37888]\n",
      " [40960 48000]]\n",
      "complete200008\n",
      "[[    0  8704]\n",
      " [ 9216 22016]\n",
      " [23040 27648]\n",
      " [30208 31744]\n",
      " [32768 43520]\n",
      " [46080 48000]]\n",
      "[[ 1024 13824]\n",
      " [21504 26624]\n",
      " [27136 39424]\n",
      " [41472 48000]]\n",
      "complete200009\n",
      "[[  512 14336]\n",
      " [14848 16896]\n",
      " [18432 22016]\n",
      " [32768 35328]\n",
      " [35840 42496]\n",
      " [43008 48000]]\n",
      "complete200010\n",
      "[[    0  3584]\n",
      " [ 5632 14336]\n",
      " [19968 23040]\n",
      " [23552 29184]\n",
      " [30208 30720]\n",
      " [33792 36864]\n",
      " [38400 43520]\n",
      " [44032 48000]]\n",
      "complete200011\n",
      "[[ 1024 14336]\n",
      " [16896 19968]\n",
      " [20480 24064]\n",
      " [24576 41984]\n",
      " [43520 48000]]\n",
      "[[  512 11776]\n",
      " [13824 17408]\n",
      " [18432 21504]\n",
      " [22016 31232]\n",
      " [33792 38400]\n",
      " [42496 45568]\n",
      " [46080 48000]]\n",
      "[[    0 18432]\n",
      " [20992 34304]\n",
      " [35328 48000]]\n",
      "complete200012\n",
      "[[    0 10752]\n",
      " [13824 25600]\n",
      " [26112 32256]\n",
      " [33280 36864]\n",
      " [37888 46592]]\n",
      "[[    0  8704]\n",
      " [10240 14848]\n",
      " [15360 18432]\n",
      " [19456 24576]\n",
      " [25088 30208]\n",
      " [31744 37888]\n",
      " [39424 42496]\n",
      " [45056 48000]]\n",
      "[[    0  8192]\n",
      " [19456 34816]\n",
      " [38400 43520]\n",
      " [44032 48000]]\n",
      "complete200013\n",
      "[[    0  8704]\n",
      " [ 9216 13312]\n",
      " [18432 32768]\n",
      " [44032 48000]]\n"
     ]
    }
   ],
   "source": [
    "'''\n",
    "PATH INITIALIZATION\n",
    "\n",
    "PATH = Origninal Audio Files\n",
    "SAVE_PATH = Transformed Audio Files\n",
    "META_DATA_PATH = Metadata.json location\n",
    "'''\n",
    "PATH = \"/Users/valleotb/Desktop/Valleotb/sample\"\n",
    "SAVE_PATH = \"/Users/valleotb/Desktop/Valleotb/sample_save\"\n",
    "META_DATA_PATH = '/Users/valleotb/Desktop/Valleotb/sample_metadata'\n",
    "FILE_COUNT = get_files_count(PATH)\n",
    "\n",
    "'''\n",
    "NAMING SETTING\n",
    "'''\n",
    "j = 100000  # 원본 파일 네이밍\n",
    "z = 200000  # 수정 후 파일 네이밍\n",
    "\n",
    "'''\n",
    "PARAMETER SETTING\n",
    "'''\n",
    "SAMPLE_TIME = 16000 * 3 # (16000 * second)\n",
    "OUTPUT_DIMENSION = 10\n",
    "\n",
    "'''\n",
    "META DATA INITIALIZATION\n",
    "'''\n",
    "META_DATA = f\"{META_DATA_PATH}/metadata.json\"\n",
    "DATA = {}\n",
    "# DATA['speech_segments'] = []\n",
    "\n",
    "for i in range(FILE_COUNT - 1):\n",
    "    j += 1\n",
    "\n",
    "    '''\n",
    "    AUDIO PREPROCESSING (CUT TO SAME TIMES)\n",
    "    '''\n",
    "    WAVEFORM, SR = sf.read(f\"{PATH}/{j}.flac\")\n",
    "    WAVEFORM = librosa.util.normalize(WAVEFORM)\n",
    "    NON_SILENT_TIME = librosa.effects.split(WAVEFORM, top_db=20)\n",
    "\n",
    "    WAVEFORM = WAVEFORM[NON_SILENT_TIME[0][0] : (NON_SILENT_TIME[0][0]+SAMPLE_TIME)]\n",
    "    NON_SILENT_TIME_2 = librosa.effects.split(WAVEFORM, top_db=15)\n",
    "    print(NON_SILENT_TIME_2)\n",
    "\n",
    "    if len(NON_SILENT_TIME_2) > 2 :\n",
    "        random_num = random.randint(0, len(NON_SILENT_TIME_2)-1)\n",
    "        k = NON_SILENT_TIME_2[random_num]\n",
    "        if (k[1] - k[0]) > (SAMPLE_TIME / OUTPUT_DIMENSION) :\n",
    "\n",
    "            '''\n",
    "            DATA TRANSFORM PROCESS\n",
    "            '''\n",
    "            # Pitch Shift Process\n",
    "            N_STEPS = random.randint(1,5)\n",
    "            WAVEFORM_TRANSFORM = librosa.effects.pitch_shift(WAVEFORM[k[0]:k[1]], sr=SR, n_steps=N_STEPS)\n",
    "            WAVEFORM_TRANSFORM_MINUS = librosa.effects.pitch_shift(WAVEFORM_TRANSFORM, sr=SR, n_steps=-N_STEPS)\n",
    "\n",
    "            # Normalize\n",
    "            WAVEFORM_NOT_TRANSFORM_PART = WAVEFORM[k[0]:k[1]]\n",
    "            WAVEFORM_DOUBLED = WAVEFORM_NOT_TRANSFORM_PART ** 2\n",
    "            WAVEFORM_TRANSFORM_DOUBLED = WAVEFORM_TRANSFORM_MINUS ** 2\n",
    "            a = np.sqrt((WAVEFORM_DOUBLED.sum()) / (WAVEFORM_TRANSFORM_DOUBLED.sum()))\n",
    "\n",
    "            WAVEFORM_TRANSFORM_FINAL = WAVEFORM_TRANSFORM_MINUS * a\n",
    "            WAVEFORM[k[0]:k[1]] = WAVEFORM_TRANSFORM_FINAL\n",
    "\n",
    "            '''\n",
    "            DATA LABELING PROCESS\n",
    "\n",
    "            LABELING => 구간의 50% 이상이 포함되었을때만 Labeling 진행한다.\n",
    "            LABEL_DATA, POINTER -> Initializing\n",
    "            '''\n",
    "            LABEL_DATA = []\n",
    "            POINTER = 0\n",
    "\n",
    "            sf.write(f'{SAVE_PATH}/{z}.wav', WAVEFORM, SR, subtype=\"PCM_24\")\n",
    "\n",
    "            for e in range(OUTPUT_DIMENSION):\n",
    "                if POINTER + (SAMPLE_TIME / OUTPUT_DIMENSION) <= k[0]:\n",
    "                    # save label\n",
    "                    LABEL_DATA.append(0)\n",
    "                    POINTER += (SAMPLE_TIME / OUTPUT_DIMENSION)     # POINTER += 4800\n",
    "\n",
    "                elif k[0] < POINTER + (SAMPLE_TIME / OUTPUT_DIMENSION) <= k[1]:\n",
    "                    # save label\n",
    "                    LABEL_DATA.append(1)\n",
    "                    POINTER += (SAMPLE_TIME / OUTPUT_DIMENSION)     # POINTER += 4800\n",
    "\n",
    "                elif POINTER + (SAMPLE_TIME / OUTPUT_DIMENSION) > k[1]:\n",
    "                    # save label\n",
    "                    LABEL_DATA.append(0)\n",
    "                    POINTER += (SAMPLE_TIME / OUTPUT_DIMENSION)     # POINTER += 4800\n",
    "\n",
    "            # write metadata\n",
    "            DATA[f\"{z}.wav\"] = LABEL_DATA\n",
    "\n",
    "            # process end\n",
    "            print(f'complete{z}')\n",
    "            z += 1\n",
    "\n",
    "with open(META_DATA, 'w') as outfile:\n",
    "    json.dump(DATA, outfile)"
   ],
   "metadata": {
    "collapsed": false,
    "pycharm": {
     "name": "#%%\n"
    }
   }
  },
  {
   "cell_type": "code",
   "execution_count": 53,
   "outputs": [
    {
     "name": "stdout",
     "output_type": "stream",
     "text": [
      "{'200000.wav': [1, 1, 0, 0, 0, 0, 0, 0, 0, 0], '200001.wav': [1, 1, 1, 1, 1, 0, 0, 0, 0, 0], '200002.wav': [0, 1, 0, 0, 0, 0, 0, 0, 0, 0], '200003.wav': [0, 0, 0, 0, 0, 0, 0, 1, 1, 1], '200004.wav': [1, 1, 1, 1, 1, 1, 0, 0, 0, 0], '200005.wav': [0, 0, 0, 1, 1, 0, 0, 0, 0, 0], '200006.wav': [1, 1, 0, 0, 0, 0, 0, 0, 0, 0], '200007.wav': [0, 0, 0, 0, 0, 0, 0, 1, 0, 0], '200008.wav': [0, 0, 0, 0, 0, 0, 1, 0, 0, 0], '200009.wav': [0, 0, 0, 0, 0, 1, 1, 1, 0, 0], '200010.wav': [0, 0, 0, 0, 0, 0, 0, 0, 1, 1], '200011.wav': [0, 0, 0, 0, 0, 0, 0, 0, 1, 0], '200012.wav': [0, 0, 0, 0, 1, 1, 1, 0, 0, 0], '200013.wav': [0, 0, 0, 0, 1, 1, 1, 0, 0, 0]}\n"
     ]
    }
   ],
   "source": [
    "# meta_data_json = pd.read_json('/Users/valleotb/Desktop/Valleotb/sample_metadata/metadata.json')\n",
    "meta_data_json = json.load(open('/Users/valleotb/Desktop/Valleotb/sample_metadata/metadata.json'))\n",
    "print(meta_data_json)"
   ],
   "metadata": {
    "collapsed": false,
    "pycharm": {
     "name": "#%%\n"
    }
   }
  },
  {
   "cell_type": "code",
   "execution_count": 56,
   "outputs": [
    {
     "data": {
      "text/plain": "'200000.wav'"
     },
     "execution_count": 56,
     "metadata": {},
     "output_type": "execute_result"
    }
   ],
   "source": [
    "m = list(meta_data_json.keys())\n",
    "m[0]"
   ],
   "metadata": {
    "collapsed": false,
    "pycharm": {
     "name": "#%%\n"
    }
   }
  },
  {
   "cell_type": "code",
   "execution_count": 62,
   "outputs": [
    {
     "data": {
      "text/plain": "[1, 1, 0, 0, 0, 0, 0, 0, 0, 0]"
     },
     "execution_count": 62,
     "metadata": {},
     "output_type": "execute_result"
    }
   ],
   "source": [
    "meta_data_json[m[0]]"
   ],
   "metadata": {
    "collapsed": false,
    "pycharm": {
     "name": "#%%\n"
    }
   }
  },
  {
   "cell_type": "code",
   "execution_count": 63,
   "outputs": [
    {
     "name": "stdout",
     "output_type": "stream",
     "text": [
      "['200000.wav', '200001.wav', '200002.wav', '200003.wav', '200004.wav', '200005.wav', '200006.wav', '200007.wav', '200008.wav', '200009.wav', '200010.wav', '200011.wav', '200012.wav', '200013.wav']\n"
     ]
    }
   ],
   "source": [
    "print(m)"
   ],
   "metadata": {
    "collapsed": false,
    "pycharm": {
     "name": "#%%\n"
    }
   }
  },
  {
   "cell_type": "code",
   "execution_count": 64,
   "outputs": [
    {
     "name": "stdout",
     "output_type": "stream",
     "text": [
      "14\n"
     ]
    }
   ],
   "source": [
    "print(len(meta_data_json))"
   ],
   "metadata": {
    "collapsed": false,
    "pycharm": {
     "name": "#%%\n"
    }
   }
  },
  {
   "cell_type": "code",
   "execution_count": null,
   "outputs": [],
   "source": [],
   "metadata": {
    "collapsed": false,
    "pycharm": {
     "name": "#%%\n"
    }
   }
  }
 ],
 "metadata": {
  "kernelspec": {
   "display_name": "Python 3",
   "language": "python",
   "name": "python3"
  },
  "language_info": {
   "codemirror_mode": {
    "name": "ipython",
    "version": 2
   },
   "file_extension": ".py",
   "mimetype": "text/x-python",
   "name": "python",
   "nbconvert_exporter": "python",
   "pygments_lexer": "ipython2",
   "version": "2.7.6"
  }
 },
 "nbformat": 4,
 "nbformat_minor": 0
}